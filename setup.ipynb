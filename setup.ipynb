{
 "cells": [
  {
   "cell_type": "markdown",
   "metadata": {},
   "source": [
    "1.Méthode de Jacobi"
   ]
  },
  {
   "cell_type": "code",
   "execution_count": 9,
   "metadata": {},
   "outputs": [],
   "source": [
    "import numpy as np\n",
    "\n",
    "def Jacobi(A, b, epsilon=0.01, K=10):\n",
    "   \n",
    "    # Initialisation\n",
    "    n = A.shape[0]\n",
    "    x0 = np.zeros(n)  \n",
    "    D_inv = np.diag(1 / np.diag(A))  \n",
    "    k = 0\n",
    "\n",
    "    # Boucle itérative\n",
    "    while k < K:\n",
    "        k = k + 1  \n",
    "        x_new = x0 + D_inv @ (b - A @ x0)  \n",
    "        \n",
    "        # Condition d'arrêt\n",
    "        if (np.linalg.norm(x_new - x0) < epsilon):  \n",
    "            return x_new  \n",
    "        \n",
    "        x0 = x_new  # Mise à jour de x^(k)\n",
    "    \n",
    "    return x0  # Retourne x_k si le nombre max d'itérations est atteint\n"
   ]
  },
  {
   "cell_type": "code",
   "execution_count": 10,
   "metadata": {},
   "outputs": [
    {
     "name": "stdout",
     "output_type": "stream",
     "text": [
      "Solution approchée : [0.99757 0.99757]\n"
     ]
    }
   ],
   "source": [
    "# Exemple \n",
    "A = np.array([[2, 1], [3, 5]], dtype=float)\n",
    "b = np.array([3, 8], dtype=float)\n",
    "\n",
    "solution = Jacobi(A, b, epsilon=0.01, K=10)\n",
    "\n",
    "print(\"Solution approchée :\", solution)\n"
   ]
  },
  {
   "cell_type": "markdown",
   "metadata": {},
   "source": [
    "2.Méthode de la puissance itérée"
   ]
  },
  {
   "cell_type": "code",
   "execution_count": null,
   "metadata": {},
   "outputs": [],
   "source": [
    "def PowerMethod(A, x0=None, epsilon=0.01, K=10):\n",
    "    n = A.shape[0]\n",
    "    if x0 is None:\n",
    "        x0 = np.random.rand(n)\n",
    "    \n",
    "    #on va normaliser x0\n",
    "    v = x0 / np.linalg.norm(x0)\n",
    "\n",
    "    mu_old = 0\n",
    "\n",
    "    for i in range(K):\n",
    "        x= np.dot(A,v) #on multiplie A par v \n",
    "\n",
    "        v= x / np.linalg.norm(x) #on normalise x \n",
    "\n",
    "        mu = np.dot(v.T, np.dot(A,v))\n",
    "\n",
    "        if abs((mu - mu_old) / mu ) < epsilon:  #on verifie le critere de convergence\n",
    "            return mu,v\n",
    "        \n",
    "        mu_old=mu # mettre à jour mu(k-1)\n",
    "\n",
    "    return mu,v \n",
    "\n",
    "\n"
   ]
  },
  {
   "cell_type": "code",
   "execution_count": null,
   "metadata": {},
   "outputs": [
    {
     "name": "stdout",
     "output_type": "stream",
     "text": [
      "Valeur propre approximée: 2.0188179642486905\n",
      "Vecteur propre approximé: [0.89014018 0.45565605 0.00529298]\n"
     ]
    }
   ],
   "source": [
    "A = np.array([[2, 0, 4],\n",
    "              [3, -4, 12],\n",
    "              [1, -2, 5]])\n",
    "\n",
    "mu, v = PowerMethod(A)\n",
    "\n",
    "print(\"Valeur propre approximée:\", mu)\n",
    "print(\"Vecteur propre approximé:\", v)"
   ]
  },
  {
   "cell_type": "markdown",
   "metadata": {},
   "source": [
    "3.Régression Polynomiale\n"
   ]
  },
  {
   "cell_type": "code",
   "execution_count": 44,
   "metadata": {},
   "outputs": [
    {
     "name": "stdout",
     "output_type": "stream",
     "text": [
      "Coefficients du polynôme de degré 3 : [ 1.13489629  5.7769809  -0.438079   -0.10100219]\n"
     ]
    },
    {
     "data": {
      "image/png": "[encoded data removed]",
      "text/plain": [
       "<Figure size 640x480 with 1 Axes>"
      ]
     },
     "metadata": {},
     "output_type": "display_data"
    }
   ],
   "source": [
    "import numpy as np\n",
    "import matplotlib.pyplot as plt\n",
    "\n",
    "def DetermineCoefficient(x, y, m):\n",
    "    # Normalisation des données\n",
    "    x_norm = (x - np.mean(x)) / np.std(x)\n",
    "    n = len(x_norm)\n",
    "    A = np.zeros((m + 1, m + 1))\n",
    "    b = np.zeros(m + 1)\n",
    "\n",
    "    # Remplissage de la matrice A et du vecteur b\n",
    "    for j in range(m + 1):\n",
    "        for i in range(n):\n",
    "            b[j] += y[i] * (x_norm[i]**j)\n",
    "            for k in range(m + 1):\n",
    "                A[j, k] += x_norm[i]**(j + k)\n",
    "\n",
    "    # Utilisation de la méthode de Jacobi pour résoudre Aa = b\n",
    "    coeffs =Jacobi(A, b, epsilon=1e-10, K=10000)\n",
    "    \n",
    "    return coeffs\n",
    "\n",
    "# Fonction pour évaluer le polynôme\n",
    "def EvaluatePolynomial(coeffs, x):\n",
    "    # Normalisation des valeurs de x utilisées pour l'évaluation\n",
    "    x_norm = (x - np.mean(x)) / np.std(x)\n",
    "    n = len(x_norm)\n",
    "    m = len(coeffs) - 1\n",
    "    y = np.zeros(n)\n",
    "\n",
    "    for i in range(n):\n",
    "        for j in range(m + 1):\n",
    "            y[i] += coeffs[j] * (x_norm[i]**j)\n",
    "    \n",
    "    return y\n",
    "\n",
    "# Données d'exemple\n",
    "x = np.array([-0.04, 0.93, 1.95, 2.90, 3.83, 5.0, 5.98, 7.05, 8.21, 9.08, 10.09])\n",
    "y = np.array([-8.66, -6.44, -4.36, -3.27, -0.88, 0.87, 3.31, 4.63, 6.19, 7.4, 8.85])\n",
    "\n",
    "m = 3  # Degré du polynôme\n",
    "\n",
    "# Calcul des coefficients du polynôme de degré 3\n",
    "coeffs = DetermineCoefficient(x, y, m)\n",
    "print(\"Coefficients du polynôme de degré 3 :\", coeffs)\n",
    "\n",
    "# Évaluation du polynôme aux points x\n",
    "y_eval = EvaluatePolynomial(coeffs, x)\n",
    "\n",
    "# Tracer les deux nuages de points\n",
    "plt.figure()\n",
    "\n",
    "# Nuage de points originaux (x, y)\n",
    "plt.plot(x, y, 'o', label='Points originaux')\n",
    "\n",
    "# Nuage de points pour le polynôme de degré 3 (x, p(x))\n",
    "plt.plot(x, y_eval, 'x', label='Polynôme de degré 3')\n",
    "\n",
    "# Ajouter des labels et une légende\n",
    "plt.xlabel('x')\n",
    "plt.ylabel('y')\n",
    "plt.legend()\n",
    "\n",
    "# Afficher le graphique\n",
    "plt.show()\n"
   ]
  },
  {
   "cell_type": "markdown",
   "metadata": {},
   "source": [
    "4. Interpolation par splines cubiques\n"
   ]
  },
  {
   "cell_type": "code",
   "execution_count": 45,
   "metadata": {},
   "outputs": [],
   "source": [
    "def DeterminePSecond(x, y):\n",
    "    n = len(x) - 1  # Nombre de segments\n",
    "    h = np.diff(x)   # Calcul des intervalles h_i = x_{i+1} - x_i\n",
    "    \n",
    "    # Initialiser les vecteurs alpha, beta, gamma et le vecteur c\n",
    "    alpha = np.zeros(n-1)\n",
    "    beta = np.zeros(n-1)\n",
    "    gamma = np.zeros(n-1)\n",
    "    c = np.zeros(n-1)\n",
    "\n",
    "    # Calcul des coefficients alpha, beta, gamma\n",
    "    for i in range(1, n):\n",
    "        alpha[i-1] = h[i-1]\n",
    "        beta[i-1] = 2 * (h[i-1] + h[i])\n",
    "        gamma[i-1] = h[i]\n",
    "        c[i-1] = 6 * ((y[i+1] - y[i]) / h[i] - (y[i] - y[i-1]) / h[i-1])\n",
    "\n",
    "    # Construire la matrice tridiagonale A et résoudre A*p = c\n",
    "    A = np.zeros((n-1, n-1))\n",
    "    for i in range(n-1):\n",
    "        if i > 0:\n",
    "            A[i, i-1] = alpha[i-1]\n",
    "        A[i, i] = beta[i-1]\n",
    "        if i < n-2:\n",
    "            A[i, i+1] = gamma[i]\n",
    "\n",
    "    # Résoudre le système Ap = c\n",
    "    p_internal = np.linalg.solve(A, c)\n",
    "\n",
    "    # Ajouter les contraintes p_0 = 0 et p_n = 0 (pentes nulles aux extrémités)\n",
    "    p = np.zeros(n+1)\n",
    "    p[1:n] = p_internal\n",
    "\n",
    "    return p\n"
   ]
  },
  {
   "cell_type": "code",
   "execution_count": 46,
   "metadata": {},
   "outputs": [],
   "source": [
    "def ComputeSplineInterpolation(x, y, p, x_new):\n",
    "    n = len(x) - 1  # Nombre de segments\n",
    "    y_new = np.zeros(len(x_new))\n",
    "    \n",
    "    h = np.diff(x)   # Calcul des intervalles h_i = x_{i+1} - x_i\n",
    "    \n",
    "    # Interpolation pour chaque point dans x_new\n",
    "    for i_new, xi_prime in enumerate(x_new):\n",
    "        for i in range(n):\n",
    "            if x[i] <= xi_prime <= x[i+1]:\n",
    "                hi = h[i]\n",
    "                alpha_i = (y[i+1] - y[i]) / hi - (hi * (p[i+1] - p[i])) / 6\n",
    "                beta_i = y[i]\n",
    "                \n",
    "                y_new[i_new] = (p[i+1] * (xi_prime - x[i])**3) / (6 * hi) \\\n",
    "                              - (p[i] * (xi_prime - x[i+1])**3) / (6 * hi) \\\n",
    "                              + alpha_i * (xi_prime - x[i]) + beta_i\n",
    "                break\n",
    "    \n",
    "    return y_new"
   ]
  },
  {
   "cell_type": "code",
   "execution_count": 47,
   "metadata": {},
   "outputs": [
    {
     "data": {
      "image/png": "[encoded data removed]",
      "text/plain": [
       "<Figure size 640x480 with 1 Axes>"
      ]
     },
     "metadata": {},
     "output_type": "display_data"
    }
   ],
   "source": [
    "# Données d'exemple\n",
    "x = np.array([0.15, 2.3, 3.15, 4.85, 6.25, 7.95])\n",
    "y = np.array([4.79867, 4.49013, 4.2243, 3.47313, 2.66674, 1.51909])\n",
    "\n",
    "# Calculer les dérivées secondes\n",
    "p = DeterminePSecond(x, y)\n",
    "\n",
    "# Points d'interpolation\n",
    "x_new = np.linspace(min(x), max(x), 100)\n",
    "\n",
    "# Calculer les valeurs interpolées\n",
    "y_new = ComputeSplineInterpolation(x, y, p, x_new)\n",
    "\n",
    "# Tracer les résultats\n",
    "plt.plot(x, y, 'o', label='Points d\\'origine')\n",
    "plt.plot(x_new, y_new, '-', label='Spline cubique')\n",
    "plt.xlabel('x')\n",
    "plt.ylabel('y')\n",
    "plt.legend()\n",
    "plt.show()"
   ]
  },
  {
   "cell_type": "markdown",
   "metadata": {},
   "source": [
    "5. Méthode de dichotomie"
   ]
  },
  {
   "cell_type": "code",
   "execution_count": 49,
   "metadata": {},
   "outputs": [],
   "source": [
    "\n",
    "def BisectionMethod(f, a, b, epsilon):\n",
    "\n",
    "     # Vérifier que f(a) et f(b) sont de signes opposés\n",
    "    if f(a) * f(b) >= 0:\n",
    "        raise ValueError(\"f(a) et f(b) doivent avoir des signes opposés\")\n",
    "    \n",
    "\n",
    "   # Initialisation des variables\n",
    "    a_k = a\n",
    "    b_k = b\n",
    "    c_k = (a_k + b_k) / 2\n",
    "    n = int(np.ceil(np.log((b - a) / epsilon) / np.log(2)))\n",
    "\n",
    "    # Boucle pour n itérations\n",
    "    for k in range(1, n+1):        \n",
    "        # Vérifier la condition d'arrêt\n",
    "        if f(a_k) * f(c_k) <= 0:\n",
    "            if f(c_k) == 0:\n",
    "                return c_k\n",
    "            b_k = c_k\n",
    "        else:\n",
    "            a_k = c_k\n",
    "        \n",
    "        c_k = (a_k + b_k) / 2\n",
    "\n",
    "    return c_k\n",
    "\n"
   ]
  },
  {
   "cell_type": "code",
   "execution_count": 50,
   "metadata": {},
   "outputs": [
    {
     "name": "stdout",
     "output_type": "stream",
     "text": [
      "Racine trouvée : 0.68212890625\n"
     ]
    }
   ],
   "source": [
    "# Définir la fonction donnée\n",
    "def f(x):\n",
    "    return x**3 + x - 1  # Fonction f(x) = x^3 + x - 1\n",
    "\n",
    "# Intervalle [a, b] et précision epsilon\n",
    "a = 0\n",
    "b = 1\n",
    "epsilon = 0.001\n",
    "\n",
    "# Appeler la méthode de dichotomie\n",
    "root = BisectionMethod(f, a, b, epsilon)\n",
    "print(\"Racine trouvée :\", root)"
   ]
  },
  {
   "cell_type": "markdown",
   "metadata": {},
   "source": [
    "6. Méthode de la fausse position modifiée"
   ]
  },
  {
   "cell_type": "code",
   "execution_count": 52,
   "metadata": {},
   "outputs": [],
   "source": [
    "def ModifiedRegulafalsiMethod(f, a, b, epsilon):\n",
    "    # Vérifier que f(a) et f(b) sont de signes opposés\n",
    "    if f(a) * f(b) >= 0:\n",
    "        raise ValueError(\"f(a) et f(b) doivent avoir des signes opposés\")\n",
    "\n",
    "    # Initialisation des variables\n",
    "    k = 1\n",
    "    a_k = a\n",
    "    b_k = b\n",
    "    c_k = (a_k * f(b_k) - b_k * f(a_k)) / (f(b_k) - f(a_k))\n",
    "    prev_c_k = None  # Pour stocker la valeur précédente de c_k\n",
    "\n",
    "    # Boucle principale\n",
    "    while abs(f(c_k)) > epsilon:\n",
    "        k = k + 1\n",
    "        alpha = 1\n",
    "        beta = 1\n",
    "\n",
    "        if f(a_k) * f(c_k) < 0:\n",
    "            b_k = c_k\n",
    "            if prev_c_k is not None and f(prev_c_k) * f(c_k) > 0:\n",
    "                alpha = 1 / 2\n",
    "            # Mettre à jour c_k en utilisant les valeurs pondérées de a_k et b_k\n",
    "            c_k = (beta * b_k * f(a_k) - alpha * a_k * f(b_k)) / (beta * f(a_k) - alpha * f(b_k))\n",
    "        else:\n",
    "            a_k = c_k\n",
    "            if prev_c_k is not None and f(prev_c_k) * f(c_k) > 0:\n",
    "                beta = 1 / 2\n",
    "            # Mettre à jour c_k en utilisant les valeurs pondérées de a_k et b_k\n",
    "            c_k = (beta * b_k * f(a_k) - alpha * a_k * f(b_k)) / (beta * f(a_k) - alpha * f(b_k))\n",
    "\n",
    "        # Stocker la valeur précédente de c_k pour la prochaine itération\n",
    "        prev_c_k = c_k\n",
    "\n",
    "    return c_k\n"
   ]
  },
  {
   "cell_type": "code",
   "execution_count": 54,
   "metadata": {},
   "outputs": [
    {
     "name": "stdout",
     "output_type": "stream",
     "text": [
      "Racine trouvée : 0.6819735421424331\n"
     ]
    }
   ],
   "source": [
    "# Définir la fonction f(x)\n",
    "def f(x):\n",
    "    return x**3 + x - 1\n",
    "\n",
    "# Définir l'intervalle et la précision\n",
    "a = 0\n",
    "b = 1\n",
    "epsilon = 0.001\n",
    "\n",
    "# Appeler la méthode de la fausse position modifiée\n",
    "root = ModifiedRegulafalsiMethod(f, a, b, epsilon)\n",
    "print(\"Racine trouvée :\", root)\n"
   ]
  },
  {
   "cell_type": "markdown",
   "metadata": {},
   "source": [
    "7. Méthode de Newton "
   ]
  },
  {
   "cell_type": "code",
   "execution_count": 55,
   "metadata": {},
   "outputs": [],
   "source": [
    "def NewtonMethod(f, f_prime, x0, epsilon, delta, K):\n",
    "    k = 0\n",
    "    x_k = x0\n",
    "    \n",
    "    while True:\n",
    "        k += 1\n",
    "        # Calculer la nouvelle valeur de x_k\n",
    "        x_k_new = x_k - f(x_k) / f_prime(x_k)\n",
    "        \n",
    "        # Vérifier la condition d'arrêt\n",
    "        if abs(f(x_k_new)) < epsilon or abs(x_k_new - x_k) < delta:\n",
    "            return x_k_new\n",
    "        \n",
    "        # Si la dérivée est nulle, arrêter\n",
    "        if k >= K or f_prime(x_k) == 0:\n",
    "            return \"Pas de racine trouvée\"\n",
    "        \n",
    "        # Mettre à jour x_k pour la prochaine itération\n",
    "        x_k = x_k_new\n"
   ]
  },
  {
   "cell_type": "code",
   "execution_count": 56,
   "metadata": {},
   "outputs": [
    {
     "name": "stdout",
     "output_type": "stream",
     "text": [
      "Racine trouvée : 0.6823284233045783\n"
     ]
    }
   ],
   "source": [
    "# Définir la fonction et sa dérivée\n",
    "def f(x):\n",
    "    return x**3 + x - 1  # Fonction f(x) = x^3 + x - 1\n",
    "\n",
    "def f_prime(x):\n",
    "    return 3*x**2 + 1  # Dérivée de f(x)\n",
    "\n",
    "# Paramètres de la méthode\n",
    "x0 = 0.5  # Point de départ\n",
    "epsilon = 0.001  # Précision sur la fonction\n",
    "delta = 0.001  # Précision sur la différence entre x_k et x_k-1\n",
    "K = 10  # Nombre maximal d'itérations\n",
    "\n",
    "# Appeler la méthode de Newton\n",
    "root = NewtonMethod(f, f_prime, x0, epsilon, delta, K)\n",
    "print(\"Racine trouvée :\", root)"
   ]
  },
  {
   "cell_type": "markdown",
   "metadata": {},
   "source": [
    "8. La méthode de trapèze composite\n"
   ]
  },
  {
   "cell_type": "code",
   "execution_count": 57,
   "metadata": {},
   "outputs": [],
   "source": [
    "def compositeTrapezoidalRule(f,m,a,b):\n",
    "    h=(b-a)/m    #m taille de segment \n",
    "\n",
    "    l=0 \n",
    "    for i in range(m+1):\n",
    "        x_i=a+ i*h #calcul du point x_i\n",
    "        if (i==0) or (i==m):\n",
    "            l=l+ f(x_i)\n",
    "        else: \n",
    "            l=l+2*f(x_i)\n",
    "\n",
    "    return l*(h/2)"
   ]
  },
  {
   "cell_type": "code",
   "execution_count": 58,
   "metadata": {},
   "outputs": [
    {
     "name": "stdout",
     "output_type": "stream",
     "text": [
      "Appro avec 8 seg : 1.9742316019455508\n",
      "Appro avec 16 seg : 1.9935703437723395\n"
     ]
    }
   ],
   "source": [
    "def f(x):\n",
    "    return np.sin(x)\n",
    "\n",
    "a=0\n",
    "b=np.pi\n",
    "\n",
    "#test avec 8 seg \n",
    "appox_8_seg=compositeTrapezoidalRule(f,8,a,b)\n",
    "print (\"Appro avec 8 seg :\",appox_8_seg)\n",
    "\n",
    "#test avec 16 seg \n",
    "appox_16_seg=compositeTrapezoidalRule(f,16,a,b)\n",
    "print (\"Appro avec 16 seg :\",appox_16_seg)\n"
   ]
  },
  {
   "cell_type": "markdown",
   "metadata": {},
   "source": [
    "9. Méthode de Simpson Composite \n"
   ]
  },
  {
   "cell_type": "code",
   "execution_count": 59,
   "metadata": {},
   "outputs": [],
   "source": [
    "def compositeSimpsonRule(f,m,a,b):\n",
    "    if m % 2 != 0 :\n",
    "        print('m doir etre paire ')\n",
    "        raise ValueError ('m doir etre paire')\n",
    "    \n",
    "    h= (b-a) / m \n",
    "    l=0\n",
    "    \n",
    "    for i in range (m+1):\n",
    "        x_i=a+ i*h #calcul du point x_i\n",
    "\n",
    "        if (i==0) or (i==m):\n",
    "            l = l+f(x_i)\n",
    "        elif i % 2 ==0 : #si i paire\n",
    "            l= l + 2*f(x_i)\n",
    "        else :\n",
    "            l= l + 4*f(x_i)  #si i impaire\n",
    "    \n",
    "    return l*(h/3)"
   ]
  },
  {
   "cell_type": "code",
   "execution_count": 60,
   "metadata": {},
   "outputs": [
    {
     "name": "stdout",
     "output_type": "stream",
     "text": [
      "Appro avec 8 seg : 2.000269169948388\n",
      "Appro avec 16 seg : 2.0000165910479355\n"
     ]
    }
   ],
   "source": [
    "def g(x):\n",
    "    return np.sin(x)\n",
    "\n",
    "a=0\n",
    "b=np.pi\n",
    "\n",
    "#test avec 8 seg \n",
    "appox_8_seg=compositeSimpsonRule(g,8,a,b)\n",
    "print (\"Appro avec 8 seg :\",appox_8_seg)\n",
    "\n",
    "#test avec 16 seg \n",
    "appox_16_seg=compositeSimpsonRule(g,16,a,b)\n",
    "print (\"Appro avec 16 seg :\",appox_16_seg)"
   ]
  },
  {
   "cell_type": "markdown",
   "metadata": {},
   "source": [
    "10. Méthode de Romberg"
   ]
  },
  {
   "cell_type": "code",
   "execution_count": 74,
   "metadata": {},
   "outputs": [],
   "source": [
    "import numpy as np\n",
    "\n",
    "# Fonction d'extrapolation de Richardson\n",
    "def RichardsonExtrapolation(a, b, j):\n",
    "    return (4**(j-1) * a - b) / (4**(j-1) - 1)\n",
    "\n",
    "# Intégration de Romberg\n",
    "def RombergIntegration(f, a, b, eps, K):\n",
    "    # Initialisation de la matrice R avec la taille K x K\n",
    "    R = np.zeros((K, K))\n",
    "    R[1, 1] = compositeTrapezoidalRule(f, 1, a, b)\n",
    "    \n",
    "    for i in range(2, K+1):\n",
    "        # Calcul de R[i,0] avec 2^i segments\n",
    "        R[i, 1] = compositeTrapezoidalRule(f, 2**i, a, b)\n",
    "        Rold = R[i, 1]\n",
    "\n",
    "        for j in range(2, i + 1):\n",
    "            # Application de l'extrapolation de Richardson\n",
    "            R[i, j] = RichardsonExtrapolation(R[i, j-1], R[i-1, j-1], j)\n",
    "            \n",
    "            # Vérification de la convergence\n",
    "            if np.abs(R[i, j] - Rold) < eps:\n",
    "                return R[i, j]\n",
    "            else:\n",
    "                Rold = R[i, j]\n",
    "\n",
    "    return Rold"
   ]
  },
  {
   "cell_type": "code",
   "execution_count": 75,
   "metadata": {},
   "outputs": [
    {
     "name": "stdout",
     "output_type": "stream",
     "text": [
      "Approximation de l'intégrale avec Romberg : 1.9999997524545725\n"
     ]
    }
   ],
   "source": [
    "# Définition de la fonction à intégrer\n",
    "def f(x):\n",
    "    return np.sin(x)\n",
    "\n",
    "# Paramètres de l'intégration\n",
    "a = 0\n",
    "b = np.pi\n",
    "epsilon = 0.001\n",
    "K = 10  # Nombre d'itérations\n",
    "\n",
    "# Calcul de l'intégrale avec la méthode de Romberg\n",
    "result_romberg = RombergIntegration(f, a, b, epsilon, K)\n",
    "print(\"Approximation de l'intégrale avec Romberg :\", result_romberg)"
   ]
  },
  {
   "cell_type": "markdown",
   "metadata": {},
   "source": []
  }
 ],
 "metadata": {
  "kernelspec": {
   "display_name": "base",
   "language": "python",
   "name": "python3"
  },
  "language_info": {
   "codemirror_mode": {
    "name": "ipython",
    "version": 3
   },
   "file_extension": ".py",
   "mimetype": "text/x-python",
   "name": "python",
   "nbconvert_exporter": "python",
   "pygments_lexer": "ipython3",
   "version": "3.12.4"
  }
 },
 "nbformat": 4,
 "nbformat_minor": 2
}
